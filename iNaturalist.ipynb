{
  "nbformat": 4,
  "nbformat_minor": 0,
  "metadata": {
    "colab": {
      "provenance": [],
      "authorship_tag": "ABX9TyOcAa4Nhn1THpuxEiSjYO96",
      "include_colab_link": true
    },
    "kernelspec": {
      "name": "python3",
      "display_name": "Python 3"
    },
    "language_info": {
      "name": "python"
    },
    "gpuClass": "standard"
  },
  "cells": [
    {
      "cell_type": "markdown",
      "metadata": {
        "id": "view-in-github",
        "colab_type": "text"
      },
      "source": [
        "<a href=\"https://colab.research.google.com/github/oikn2018/CS6910_assignment_2/blob/main/iNaturalist.ipynb\" target=\"_parent\"><img src=\"https://colab.research.google.com/assets/colab-badge.svg\" alt=\"Open In Colab\"/></a>"
      ]
    },
    {
      "cell_type": "code",
      "execution_count": 3,
      "metadata": {
        "colab": {
          "base_uri": "https://localhost:8080/"
        },
        "id": "kuWDIoHDUCt1",
        "outputId": "54d4f5de-7d89-41de-e5f5-86dda13a75e2"
      },
      "outputs": [
        {
          "output_type": "execute_result",
          "data": {
            "text/plain": [
              "<torch._C.Generator at 0x7f5668670270>"
            ]
          },
          "metadata": {},
          "execution_count": 3
        }
      ],
      "source": [
        "import torch\n",
        "import torch.nn as nn\n",
        "import matplotlib.pyplot as plt\n",
        "import numpy as np\n",
        "import torchvision\n",
        "import torchvision.transforms as transforms\n",
        "import torch.optim as optim\n",
        "import random\n",
        "import wget\n",
        "import os\n",
        "import datetime\n",
        "from zipfile import ZipFile\n",
        "from PIL import Image\n",
        "from torchvision.datasets import ImageFolder\n",
        "from torch.utils.data.sampler import SubsetRandomSampler\n",
        "random.seed(0)\n",
        "np.random.seed(0)\n",
        "torch.manual_seed(0)"
      ]
    },
    {
      "cell_type": "code",
      "source": [
        "# classes = ('airplane', 'automobile', 'bird', 'cat', 'deer', 'dog', 'frog', 'horse', 'ship', 'truck')\n",
        "!pip install wget"
      ],
      "metadata": {
        "colab": {
          "base_uri": "https://localhost:8080/"
        },
        "id": "G2Ln6cqDUe0z",
        "outputId": "874dc836-6fc5-44f1-eedb-3af5effb0585"
      },
      "execution_count": 2,
      "outputs": [
        {
          "output_type": "stream",
          "name": "stdout",
          "text": [
            "Looking in indexes: https://pypi.org/simple, https://us-python.pkg.dev/colab-wheels/public/simple/\n",
            "Collecting wget\n",
            "  Downloading wget-3.2.zip (10 kB)\n",
            "  Preparing metadata (setup.py) ... \u001b[?25l\u001b[?25hdone\n",
            "Building wheels for collected packages: wget\n",
            "  Building wheel for wget (setup.py) ... \u001b[?25l\u001b[?25hdone\n",
            "  Created wheel for wget: filename=wget-3.2-py3-none-any.whl size=9676 sha256=61ce648711dce698d84a78baa200bb55f63188ff998d28fcaf09d56e58abad59\n",
            "  Stored in directory: /root/.cache/pip/wheels/04/5f/3e/46cc37c5d698415694d83f607f833f83f0149e49b3af9d0f38\n",
            "Successfully built wget\n",
            "Installing collected packages: wget\n",
            "Successfully installed wget-3.2\n"
          ]
        }
      ]
    },
    {
      "cell_type": "code",
      "source": [
        "url='https://storage.googleapis.com/wandb_datasets/nature_12K.zip'\n",
        "filename = os.path.basename(url)\n",
        "\n",
        "if not os.path.exists(filename) and not os.path.exists(\"inaturalist_12K\"):\n",
        "  filename = wget.download(url)\n",
        "  with ZipFile(filename, 'r') as z:\n",
        "    print('Extracting files...')\n",
        "    z.extractall()\n",
        "    print('Done!')\n",
        "  os.remove(filename)"
      ],
      "metadata": {
        "id": "hkhPwFhuYbA9",
        "colab": {
          "base_uri": "https://localhost:8080/"
        },
        "outputId": "0d4307cb-fc35-4411-8905-5120cff0a414"
      },
      "execution_count": 4,
      "outputs": [
        {
          "output_type": "stream",
          "name": "stdout",
          "text": [
            "Extracting files...\n",
            "Done!\n"
          ]
        }
      ]
    },
    {
      "cell_type": "code",
      "source": [
        "# torchvision.transforms.functional.get_image_size('inaturalist_12K/train')"
      ],
      "metadata": {
        "id": "q_n22e3bIy-J"
      },
      "execution_count": null,
      "outputs": []
    },
    {
      "cell_type": "code",
      "source": [
        "classes = [name for name in os.listdir(\"inaturalist_12K/train\") if name != '.DS_Store']\n",
        "print(len(classes))"
      ],
      "metadata": {
        "colab": {
          "base_uri": "https://localhost:8080/"
        },
        "id": "ZznwrQ0sH3ud",
        "outputId": "76fc9e11-5820-413f-9c10-8e3f1ccc102a"
      },
      "execution_count": 5,
      "outputs": [
        {
          "output_type": "stream",
          "name": "stdout",
          "text": [
            "10\n"
          ]
        }
      ]
    },
    {
      "cell_type": "code",
      "source": [
        "image_size = (256,256)\n",
        "num_layers = 5\n",
        "num_classes = len(classes)"
      ],
      "metadata": {
        "id": "QmMAm9kgFKby"
      },
      "execution_count": 6,
      "outputs": []
    },
    {
      "cell_type": "code",
      "source": [],
      "metadata": {
        "id": "BTO5Y9_fY5Nb"
      },
      "execution_count": 6,
      "outputs": []
    },
    {
      "cell_type": "code",
      "source": [
        "class CNN(nn.Module):\n",
        "  def __init__(self):\n",
        "    super(CNN, self).__init__()\n",
        "    self.cnn_model = nn.Sequential(\n",
        "        nn.Conv2d(3,16,5, padding=2), #(N, 3, 256, 256) -> (N, 16, 256, 256)\n",
        "        nn.ReLU(),\n",
        "        nn.MaxPool2d(2, stride = 2), #(N, 16, 256, 256) -> (N, 16, 128, 128)\n",
        "        nn.Conv2d(16,16,5, padding=2), #(N, 16, 128, 128) -> (N, 16, 128, 128)\n",
        "        nn.ReLU(),\n",
        "        nn.MaxPool2d(2, stride = 2), # (N, 16, 128, 128) -> (N, 16, 64, 64)\n",
        "        nn.Conv2d(16,16,5, padding=2), #(N, 16, 64, 64) -> (N, 16, 64, 64)\n",
        "        nn.ReLU(),\n",
        "        nn.MaxPool2d(2, stride = 2), # (N, 16, 64, 64) -> (N, 16, 32, 32)\n",
        "        nn.Conv2d(16,16,5, padding=2), #(N, 16, 32, 32) -> (N, 16, 32, 32)\n",
        "        nn.ReLU(),\n",
        "        nn.MaxPool2d(2, stride = 2), # (N, 16, 32, 32) -> (N, 16, 16, 16)\n",
        "        nn.Conv2d(16,16,5, padding=2), #(N, 16, 16, 16) -> (N, 16, 16, 16)\n",
        "        nn.ReLU(),\n",
        "        nn.MaxPool2d(2, stride = 2), # (N, 16, 16, 16) -> (N, 16, 8, 8)\n",
        "    )\n",
        "    self.fully_conn_model = nn.Sequential(\n",
        "        nn.Linear(1024, 128), #(N, 59536) -> (N, 128)\n",
        "        nn.ReLU(),\n",
        "        nn.Linear(128, 64), # (N, 120) -> (N, 84)\n",
        "        nn.ReLU(),\n",
        "        nn.Linear(64, 10) # (N, 84) -> (N, 10)\n",
        "    )\n",
        "  \n",
        "  def forward(self, x):\n",
        "    # print(x.shape)\n",
        "    x = self.cnn_model(x)\n",
        "    # print(x.shape)\n",
        "    x = x.view(x.size(0), -1) # (N, 16, 5, 5) -> (N, 400)\n",
        "    # print(x. shape)\n",
        "    x = self.fully_conn_model(x)\n",
        "    # print(x.shape)\n",
        "    return x"
      ],
      "metadata": {
        "id": "buas61uXU5wJ"
      },
      "execution_count": 7,
      "outputs": []
    },
    {
      "cell_type": "code",
      "source": [
        "batch_size = 64\n",
        "# trainset = torchvision.datasets.CIFAR10(root = './data', train = True, download = True, transform = transform.ToTensor())\n",
        "transform = transforms.Compose([\n",
        "    transforms.Resize(image_size),\n",
        "    transforms.ToTensor(),\n",
        "])\n",
        "\n",
        "train_dataset = ImageFolder(\n",
        "    'inaturalist_12K/train',\n",
        "    transform=transform\n",
        ")\n",
        "\n",
        "val_dataset = ImageFolder(\n",
        "    'inaturalist_12K/train',\n",
        "    transform=transform\n",
        ")\n",
        "\n",
        "# indexs = [[] for _ in range(len(train_dataset.classes))]  # you can't use `[[]] * len(dataset.classes)`. Although there might be better ways but I don't know\n",
        "# for idx, (_, class_idx) in enumerate(train_dataset):\n",
        "#     indexs[class_idx].append(idx)\n",
        "# train_indices, val_indices = [], []\n",
        "# for cl_idx in indexs:\n",
        "#     size = len(cl_idx)\n",
        "#     split = int(np.floor(0.2* size))\n",
        "#     np.random.shuffle(cl_idx)\n",
        "#     train_indices.extend(cl_idx[split:])\n",
        "#     val_indices.extend(cl_idx[:split])\n",
        "# train_sampler = SubsetRandomSampler(train_indices)\n",
        "# valid_sampler = SubsetRandomSampler(val_indices)\n",
        "\n",
        "\n",
        "# Define the indices to split between training and validation datasets\n",
        "num_train = len(train_dataset)\n",
        "indices = list(range(num_train))\n",
        "\n",
        "split = int(np.floor(0.2 * num_train))\n",
        "\n",
        "# Shuffle the indices before splitting\n",
        "np.random.seed(0)\n",
        "np.random.shuffle(indices)\n",
        "\n",
        "train_indices, val_indices = indices[split:], indices[:split]\n",
        "print(len(val_indices))\n",
        "# Define the samplers for training and validation sets\n",
        "train_sampler = SubsetRandomSampler(train_indices)\n",
        "val_sampler = SubsetRandomSampler(val_indices)\n",
        "\n",
        "# Use the samplers to create the DataLoader for validation set\n",
        "val_loader = torch.utils.data.DataLoader(\n",
        "    val_dataset,\n",
        "    batch_size=batch_size,\n",
        "    sampler=val_sampler\n",
        "    # shuffle = True\n",
        ")\n",
        "\n",
        "\n",
        "train_loader = torch.utils.data.DataLoader(\n",
        "    train_dataset,\n",
        "    batch_size=batch_size,\n",
        "    sampler=train_sampler\n",
        "    # shuffle = True\n",
        ")\n",
        "\n",
        "# print(len(train_dataset), len(val_dataset))\n",
        "\n",
        "# trainloader = (trainset, batch_size = batch_size, shuffle = True)\n",
        "# testset = torchvision.datasets.CIFAR10(root = './data', train = False, download = True, transform = transform.ToTensor())\n",
        "# testloader = torch.utils.data.DataLoader(testset, batch_size = batch_size, shuffle = True)"
      ],
      "metadata": {
        "colab": {
          "base_uri": "https://localhost:8080/"
        },
        "id": "ttoy-DiLbzqp",
        "outputId": "bc04ab4c-39ad-4a23-9f9b-9f5d7a2a4faa"
      },
      "execution_count": 8,
      "outputs": [
        {
          "output_type": "stream",
          "name": "stdout",
          "text": [
            "1999\n"
          ]
        }
      ]
    },
    {
      "cell_type": "code",
      "source": [
        "dataiter = iter(train_loader)\n",
        "images, labels = next(dataiter)\n",
        "print(images.shape)\n",
        "print(images[0].shape)\n",
        "print(classes[labels[0].item()])"
      ],
      "metadata": {
        "colab": {
          "base_uri": "https://localhost:8080/"
        },
        "id": "YRTtAYc9JCJh",
        "outputId": "0a1e5250-eba7-46aa-975c-20fe41c09b8c"
      },
      "execution_count": 9,
      "outputs": [
        {
          "output_type": "stream",
          "name": "stdout",
          "text": [
            "torch.Size([64, 3, 256, 256])\n",
            "torch.Size([3, 256, 256])\n",
            "Arachnida\n"
          ]
        }
      ]
    },
    {
      "cell_type": "code",
      "source": [
        "device = torch.device('cuda:0' if torch.cuda.is_available() else 'cpu')\n",
        "print(device)"
      ],
      "metadata": {
        "colab": {
          "base_uri": "https://localhost:8080/"
        },
        "id": "5OHrvEdokgix",
        "outputId": "5d33c732-a5a8-4e76-a51c-9516d7a75ec9"
      },
      "execution_count": null,
      "outputs": [
        {
          "output_type": "stream",
          "name": "stdout",
          "text": [
            "cuda:0\n"
          ]
        }
      ]
    },
    {
      "cell_type": "code",
      "source": [
        "def evaluation(dataloader):\n",
        "  total, correct = 0, 0\n",
        "  for data in dataloader:\n",
        "    inputs, labels = data\n",
        "    inputs, labels = inputs.to(device), labels.to(device)\n",
        "    outputs = net(inputs)\n",
        "    max_values, pred_class = torch.max(outputs.data, 1)\n",
        "    total += labels.size(0)\n",
        "    correct += (pred_class == labels).sum().item()\n",
        "  return 100*correct/total"
      ],
      "metadata": {
        "id": "jgxOUKFvkgWf"
      },
      "execution_count": null,
      "outputs": []
    },
    {
      "cell_type": "code",
      "source": [
        "net = CNN().to(device)\n",
        "loss_fn = nn.CrossEntropyLoss()\n",
        "opt = optim.Adam(net.parameters())\n",
        "print(sum(p.numel() for p in net.parameters() if p.requires_grad))\n"
      ],
      "metadata": {
        "id": "1EyMB8hlk-uX",
        "colab": {
          "base_uri": "https://localhost:8080/"
        },
        "outputId": "517e2bf8-6fe2-4f4d-f553-f8f9fefa94a8"
      },
      "execution_count": null,
      "outputs": [
        {
          "output_type": "stream",
          "name": "stdout",
          "text": [
            "166986\n"
          ]
        }
      ]
    },
    {
      "cell_type": "code",
      "source": [
        "%%time\n",
        "loss_arr = []\n",
        "loss_ep_arr = []\n",
        "max_epochs = 10\n",
        "\n",
        "for epoch in range(max_epochs):\n",
        "  for i, data in enumerate(train_loader, 0):\n",
        "    inputs, labels = data\n",
        "    inputs, labels = inputs.to(device), labels.to(device)\n",
        "    opt.zero_grad()\n",
        "    outputs = net(inputs)\n",
        "    loss = loss_fn(outputs, labels)\n",
        "    loss.backward()\n",
        "    opt.step()\n",
        "    loss_arr.append(loss.item())\n",
        "  loss_ep_arr.append(loss.item())\n",
        "  print('Epoch: %d/%d, Validation accuracy: %0.2f, Train accuracy: %0.2f'%(epoch, max_epochs, evaluation(val_loader), evaluation(train_loader)))\n",
        "# Epoch: 10/16, Test accuracy: 55.76, Train accuracy: 63.59\n",
        "plt.plot(loss_ep_arr)\n",
        "plt.show()"
      ],
      "metadata": {
        "colab": {
          "base_uri": "https://localhost:8080/"
        },
        "id": "mHN8s96EaAbT",
        "outputId": "448e36ad-46d1-4c3c-c885-d07ea8cfdcfa"
      },
      "execution_count": null,
      "outputs": [
        {
          "output_type": "stream",
          "name": "stdout",
          "text": [
            "Epoch: 0/10, Validation accuracy: 12.76, Train accuracy: 13.30\n",
            "Epoch: 1/10, Validation accuracy: 19.51, Train accuracy: 19.21\n",
            "Epoch: 2/10, Validation accuracy: 21.71, Train accuracy: 21.54\n",
            "Epoch: 3/10, Validation accuracy: 22.86, Train accuracy: 24.39\n",
            "Epoch: 4/10, Validation accuracy: 24.61, Train accuracy: 26.45\n",
            "Epoch: 5/10, Validation accuracy: 26.01, Train accuracy: 28.46\n",
            "Epoch: 6/10, Validation accuracy: 26.66, Train accuracy: 28.73\n"
          ]
        }
      ]
    },
    {
      "cell_type": "code",
      "source": [
        "%%time\n",
        "loss_arr = []\n",
        "loss_ep_arr = []\n",
        "max_epochs = 10\n",
        "\n",
        "for epoch in range(max_epochs):\n",
        "  for i, data in enumerate(train_loader, 0):\n",
        "    inputs, labels = data\n",
        "    inputs, labels = inputs.to(device), labels.to(device)\n",
        "    opt.zero_grad()\n",
        "    outputs = net(inputs)\n",
        "    loss = loss_fn(outputs, labels)\n",
        "    loss.backward()\n",
        "    opt.step()\n",
        "    loss_arr.append(loss.item())\n",
        "  loss_ep_arr.append(loss.item())\n",
        "  print('Epoch: %d/%d, Validation accuracy: %0.2f, Train accuracy: %0.2f'%(epoch, max_epochs, evaluation(val_loader), evaluation(train_loader)))\n",
        "# Epoch: 10/16, Test accuracy: 55.76, Train accuracy: 63.59\n",
        "plt.plot(loss_ep_arr)\n",
        "plt.show()"
      ],
      "metadata": {
        "id": "jOPxk0NMpuSK"
      },
      "execution_count": null,
      "outputs": []
    },
    {
      "cell_type": "code",
      "source": [
        "imshow(torchvision.utils.make_grid(images))\n",
        "print(' '.join(classes[labels[i]] for i in range(4) ))"
      ],
      "metadata": {
        "colab": {
          "base_uri": "https://localhost:8080/",
          "height": 210
        },
        "id": "BlWlXWs8akep",
        "outputId": "becb5290-7705-43eb-bd5a-46a4c9d769a8"
      },
      "execution_count": null,
      "outputs": [
        {
          "output_type": "display_data",
          "data": {
            "text/plain": [
              "<Figure size 640x480 with 1 Axes>"
            ],
            "image/png": "[encoded data removed]"
          },
          "metadata": {}
        },
        {
          "output_type": "stream",
          "name": "stdout",
          "text": [
            "horse bird horse frog\n"
          ]
        }
      ]
    },
    {
      "cell_type": "code",
      "source": [],
      "metadata": {
        "id": "SDZ1IT0AavNi"
      },
      "execution_count": null,
      "outputs": []
    }
  ]
}